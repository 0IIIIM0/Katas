{
 "cells": [
  {
   "cell_type": "code",
   "execution_count": 9,
   "metadata": {},
   "outputs": [
    {
     "name": "stdout",
     "output_type": "stream",
     "text": [
      "Fuel Report:\n",
      "    Promedio: 74.33333333333333%\n",
      "    Principal: 90%\n",
      "    Externo: 78%\n",
      "    Hydrogeno: 55% \n",
      "    \n"
     ]
    },
    {
     "data": {
      "text/plain": [
       "82.0"
      ]
     },
     "execution_count": 9,
     "metadata": {},
     "output_type": "execute_result"
    }
   ],
   "source": [
    "# def tanque_decombustible():\n",
    "   #print('tanque1 , tanque2, tanque3')\n",
    "#tanque_decombustible()\n",
    "#output =tanque_decombustible()\n",
    "\n",
    "\n",
    "def generar_reporte(tanques):\n",
    "    \n",
    "    reporte_inicio = \"REPORTE GASOLINA:\\n\"\n",
    "    total = 0\n",
    "\n",
    "    for tanque in tanques:\n",
    "        precio = tanques[tanque]\n",
    "        total += precio\n",
    "        reporte_inicio += \"\\tTANQUE {}: {}$\\n\".format(list(tanques.keys()).index(tanque) + 1, precio)\n",
    "\n",
    "    reporte_inicio += \"\\tTOTAL: {}$\\n\".format(total)\n",
    "    reporte_inicio += \"\\tMEDIA: {}$\\n\".format(total / len(tanques))\n",
    "\n",
    "    return reporte_inicio\n",
    "\n",
    "\n",
    "print(generar_reporte({\"Tanque1\":11, \"Tanque2\":421, \"Tanque3\":1141, \"Tanque4\":141, \"Tanque5\":111}))\n",
    "\n",
    "    "
   ]
  },
  {
   "cell_type": "code",
   "execution_count": null,
   "metadata": {},
   "outputs": [],
   "source": [
    "def mission_report(destination, *minutes, **fuel_reservoirs):\n",
    "\n",
    "    print(fuel_reservoirs.items(), type(fuel_reservoirs))\n",
    "\n",
    "    reporte = \"\"\"\n",
    "    Mision a {}\n",
    "    Tiempo de viaje: {} \n",
    "    Combustible restante: {}\"\"\".format(destination, sum(minutes), sum(fuel_reservoirs.values()))\n",
    "\n",
    "\n",
    "    for tanque, galones in fuel_reservoirs.items():\n",
    "        reporte += f\"{tanque} tanque --> {galones} galones restantes\\n\"\n",
    "        \n",
    "    return reporte\n",
    "\n",
    "print(mission_report(\"Luna\", 6, 18, 655, main=20000, external=2000))"
   ]
  }
 ],
 "metadata": {
  "interpreter": {
   "hash": "69eb92836b941e979072a76c7fcfffe5419cca933cedd02cfafbdfca1a93358c"
  },
  "kernelspec": {
   "display_name": "Python 3.9.10 64-bit",
   "language": "python",
   "name": "python3"
  },
  "language_info": {
   "codemirror_mode": {
    "name": "ipython",
    "version": 3
   },
   "file_extension": ".py",
   "mimetype": "text/x-python",
   "name": "python",
   "nbconvert_exporter": "python",
   "pygments_lexer": "ipython3",
   "version": "3.9.10"
  },
  "orig_nbformat": 4
 },
 "nbformat": 4,
 "nbformat_minor": 2
}
