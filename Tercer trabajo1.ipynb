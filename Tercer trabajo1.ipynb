{
 "cells": [
  {
   "cell_type": "code",
   "execution_count": 3,
   "metadata": {},
   "outputs": [
    {
     "name": "stdout",
     "output_type": "stream",
     "text": [
      "cuidado se acerca un asteroide rápidamente \n"
     ]
    }
   ],
   "source": [
    "asteroide=49 \n",
    "\n",
    "if asteroide > 25:\n",
    "    print(\"cuidado se acerca un asteroide rápidamente \")\n"
   ]
  },
  {
   "cell_type": "code",
   "execution_count": 5,
   "metadata": {},
   "outputs": [
    {
     "name": "stdout",
     "output_type": "stream",
     "text": [
      "no se verá rayo de luz \n"
     ]
    }
   ],
   "source": [
    "asteroide=19\n",
    "\n",
    "if asteroide >= 20: \n",
    "       print(\"se observará un rayo de luz *Atento* \")\n",
    "else:\n",
    "    print(\"no se verá rayo de luz \")"
   ]
  },
  {
   "cell_type": "code",
   "execution_count": 7,
   "metadata": {},
   "outputs": [
    {
     "name": "stdout",
     "output_type": "stream",
     "text": [
      "sí el astro golpea la tierra moriremos \n",
      "Cuidado se hacerca un asteroide rápidamente\n"
     ]
    }
   ],
   "source": [
    "velocidadastro=36\n",
    "dimensionastro=450\n",
    "\n",
    "if dimensionastro > 25:\n",
    "    print(\"sí el astro golpea la tierra moriremos \")\n",
    "elif dimensionastro < 25:\n",
    "    print(\"observa el cielo se verá na luz\")\n",
    "else:\n",
    "    print(\"No hay ningun problema\")\n",
    "\n",
    "if velocidadastro > 25:\n",
    "\n",
    "    print(\"Cuidado se hacerca un asteroide rápidamente\")\n",
    "elif velocidadastro < 20 :\n",
    "    print(\"observa el cielo se pintará una luz\")\n",
    "else:\n",
    "    print(\"El planeta se encuentra bien\")\n"
   ]
  }
 ],
 "metadata": {
  "interpreter": {
   "hash": "69eb92836b941e979072a76c7fcfffe5419cca933cedd02cfafbdfca1a93358c"
  },
  "kernelspec": {
   "display_name": "Python 3.9.10 64-bit",
   "language": "python",
   "name": "python3"
  },
  "language_info": {
   "codemirror_mode": {
    "name": "ipython",
    "version": 3
   },
   "file_extension": ".py",
   "mimetype": "text/x-python",
   "name": "python",
   "nbconvert_exporter": "python",
   "pygments_lexer": "ipython3",
   "version": "3.9.10"
  },
  "orig_nbformat": 4
 },
 "nbformat": 4,
 "nbformat_minor": 2
}
