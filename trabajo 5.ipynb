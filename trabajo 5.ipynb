{
 "cells": [
  {
   "cell_type": "code",
   "execution_count": 16,
   "metadata": {},
   "outputs": [
    {
     "ename": "NameError",
     "evalue": "name 'planeta_uno' is not defined",
     "output_type": "error",
     "traceback": [
      "\u001b[1;31m---------------------------------------------------------------------------\u001b[0m",
      "\u001b[1;31mNameError\u001b[0m                                 Traceback (most recent call last)",
      "\u001b[1;32mc:\\nachito proyectos\\phy\\trabajo 5.ipynb Cell 1'\u001b[0m in \u001b[0;36m<module>\u001b[1;34m\u001b[0m\n\u001b[0;32m      <a href='vscode-notebook-cell:/c%3A/nachito%20proyectos/phy/trabajo%205.ipynb#ch0000000?line=0'>1</a>\u001b[0m Planeta_uno \u001b[39m=\u001b[39m \u001b[39m149597870\u001b[39m\n\u001b[0;32m      <a href='vscode-notebook-cell:/c%3A/nachito%20proyectos/phy/trabajo%205.ipynb#ch0000000?line=1'>2</a>\u001b[0m Planeta_dos \u001b[39m=\u001b[39m \u001b[39m778547200\u001b[39m\n\u001b[1;32m----> <a href='vscode-notebook-cell:/c%3A/nachito%20proyectos/phy/trabajo%205.ipynb#ch0000000?line=2'>3</a>\u001b[0m \u001b[39mprint\u001b[39m(planeta_uno , Planeta_dos)\n",
      "\u001b[1;31mNameError\u001b[0m: name 'planeta_uno' is not defined"
     ]
    }
   ],
   "source": [
    "planeta_uno = 149597870\n",
    "planeta_dos = 778547200\n",
    "print(planeta_uno , planeta_dos)"
   ]
  },
  {
   "cell_type": "code",
   "execution_count": 18,
   "metadata": {},
   "outputs": [
    {
     "name": "stdout",
     "output_type": "stream",
     "text": [
      "149597870 778547200\n",
      "628949330\n",
      "390577533.93\n",
      "628949330\n",
      "390577533.93\n"
     ]
    }
   ],
   "source": [
    "planeta_uno = 149597870\n",
    "planeta_dos = 778547200\n",
    "print(planeta_uno , planeta_dos)\n",
    "\n",
    "distancia_km = planeta_dos - planeta_uno\n",
    "print(distancia_km)\n",
    "\n",
    "distancia_mi = distancia_km * 0.621\n",
    "print(distancia_mi)\n",
    "\n",
    "planeta_uno = input('Introduce la distancia del sol para el primer planeta en KM')\n",
    "planeta_dos = input('Introduce la distancia desde el sol para el segundo planeta en KM')\n",
    "\n",
    "planeta_uno = int(planeta_uno)\n",
    "planeta_dos = int(planeta_dos)\n",
    "\n",
    "# Realizar el cálculo y determinar el valor absoluto\n",
    "distance_km = planeta_dos - planeta_uno\n",
    "print(distancia_km)\n",
    "\n",
    "# Convertir de KM a Millas\n",
    "distancia_mi = distancia_km * 0.621\n",
    "print(abs(distancia_mi))"
   ]
  }
 ],
 "metadata": {
  "interpreter": {
   "hash": "69eb92836b941e979072a76c7fcfffe5419cca933cedd02cfafbdfca1a93358c"
  },
  "kernelspec": {
   "display_name": "Python 3.9.10 64-bit",
   "language": "python",
   "name": "python3"
  },
  "language_info": {
   "codemirror_mode": {
    "name": "ipython",
    "version": 3
   },
   "file_extension": ".py",
   "mimetype": "text/x-python",
   "name": "python",
   "nbconvert_exporter": "python",
   "pygments_lexer": "ipython3",
   "version": "3.9.10"
  },
  "orig_nbformat": 4
 },
 "nbformat": 4,
 "nbformat_minor": 2
}
