{
 "cells": [
  {
   "cell_type": "code",
   "execution_count": 1,
   "metadata": {},
   "outputs": [
    {
     "ename": "FileNotFoundError",
     "evalue": "[Errno 2] No such file or directory: 'a.jpg'",
     "output_type": "error",
     "traceback": [
      "\u001b[1;31m---------------------------------------------------------------------------\u001b[0m",
      "\u001b[1;31mFileNotFoundError\u001b[0m                         Traceback (most recent call last)",
      "\u001b[1;32mc:\\nachito proyectos\\phy\\Trabajo10.ipynb Cell 1'\u001b[0m in \u001b[0;36m<module>\u001b[1;34m\u001b[0m\n\u001b[1;32m----> <a href='vscode-notebook-cell:/c%3A/nachito%20proyectos/phy/Trabajo10.ipynb#ch0000000?line=0'>1</a>\u001b[0m \u001b[39mopen\u001b[39;49m(\u001b[39m\"\u001b[39;49m\u001b[39ma.jpg\u001b[39;49m\u001b[39m\"\u001b[39;49m)\n",
      "\u001b[1;31mFileNotFoundError\u001b[0m: [Errno 2] No such file or directory: 'a.jpg'"
     ]
    }
   ],
   "source": [
    "open(\"a.jpg\")"
   ]
  },
  {
   "cell_type": "code",
   "execution_count": 2,
   "metadata": {},
   "outputs": [
    {
     "ename": "RuntimeError",
     "evalue": "No hay agua suficiente, para los dias restantes, hacen falta 10 litros",
     "output_type": "error",
     "traceback": [
      "\u001b[1;31m---------------------------------------------------------------------------\u001b[0m",
      "\u001b[1;31mRuntimeError\u001b[0m                              Traceback (most recent call last)",
      "\u001b[1;32mc:\\nachito proyectos\\phy\\Trabajo10.ipynb Cell 2'\u001b[0m in \u001b[0;36m<module>\u001b[1;34m\u001b[0m\n\u001b[0;32m     <a href='vscode-notebook-cell:/c%3A/nachito%20proyectos/phy/Trabajo10.ipynb#ch0000001?line=12'>13</a>\u001b[0m         \u001b[39mraise\u001b[39;00m \u001b[39mRuntimeError\u001b[39;00m(\u001b[39m\"\u001b[39m\u001b[39mNo hay agua suficiente, para los dias restantes, hacen falta \u001b[39m\u001b[39m{}\u001b[39;00m\u001b[39m litros\u001b[39m\u001b[39m\"\u001b[39m\u001b[39m.\u001b[39mformat(consumo_total))\n\u001b[0;32m     <a href='vscode-notebook-cell:/c%3A/nachito%20proyectos/phy/Trabajo10.ipynb#ch0000001?line=14'>15</a>\u001b[0m     \u001b[39mreturn\u001b[39;00m \u001b[39m\"\u001b[39m\u001b[39mEl agua restante despues de \u001b[39m\u001b[39m{}\u001b[39;00m\u001b[39m dias es: \u001b[39m\u001b[39m{}\u001b[39;00m\u001b[39m litros\u001b[39m\u001b[39m\"\u001b[39m\u001b[39m.\u001b[39mformat(dias_restantes, \u001b[39mabs\u001b[39m(consumo_total))\n\u001b[1;32m---> <a href='vscode-notebook-cell:/c%3A/nachito%20proyectos/phy/Trabajo10.ipynb#ch0000001?line=17'>18</a>\u001b[0m agua_disponible(\u001b[39m5\u001b[39;49m, \u001b[39m100\u001b[39;49m, \u001b[39m2\u001b[39;49m)\n",
      "\u001b[1;32mc:\\nachito proyectos\\phy\\Trabajo10.ipynb Cell 2'\u001b[0m in \u001b[0;36magua_disponible\u001b[1;34m(astronautas, agua_restante, dias_restantes)\u001b[0m\n\u001b[0;32m     <a href='vscode-notebook-cell:/c%3A/nachito%20proyectos/phy/Trabajo10.ipynb#ch0000001?line=9'>10</a>\u001b[0m consumo_total \u001b[39m=\u001b[39m (consumo_diario \u001b[39m*\u001b[39m dias_restantes) \u001b[39m-\u001b[39m agua_restante \n\u001b[0;32m     <a href='vscode-notebook-cell:/c%3A/nachito%20proyectos/phy/Trabajo10.ipynb#ch0000001?line=11'>12</a>\u001b[0m \u001b[39mif\u001b[39;00m consumo_total \u001b[39m>\u001b[39m \u001b[39m0\u001b[39m:\n\u001b[1;32m---> <a href='vscode-notebook-cell:/c%3A/nachito%20proyectos/phy/Trabajo10.ipynb#ch0000001?line=12'>13</a>\u001b[0m     \u001b[39mraise\u001b[39;00m \u001b[39mRuntimeError\u001b[39;00m(\u001b[39m\"\u001b[39m\u001b[39mNo hay agua suficiente, para los dias restantes, hacen falta \u001b[39m\u001b[39m{}\u001b[39;00m\u001b[39m litros\u001b[39m\u001b[39m\"\u001b[39m\u001b[39m.\u001b[39mformat(consumo_total))\n\u001b[0;32m     <a href='vscode-notebook-cell:/c%3A/nachito%20proyectos/phy/Trabajo10.ipynb#ch0000001?line=14'>15</a>\u001b[0m \u001b[39mreturn\u001b[39;00m \u001b[39m\"\u001b[39m\u001b[39mEl agua restante despues de \u001b[39m\u001b[39m{}\u001b[39;00m\u001b[39m dias es: \u001b[39m\u001b[39m{}\u001b[39;00m\u001b[39m litros\u001b[39m\u001b[39m\"\u001b[39m\u001b[39m.\u001b[39mformat(dias_restantes, \u001b[39mabs\u001b[39m(consumo_total))\n",
      "\u001b[1;31mRuntimeError\u001b[0m: No hay agua suficiente, para los dias restantes, hacen falta 10 litros"
     ]
    }
   ],
   "source": [
    "def agua_disponible(astronautas, agua_restante, dias_restantes):\n",
    "\n",
    "    for argumentos in [astronautas, agua_restante, dias_restantes]:\n",
    "        \n",
    "        if type(argumentos) != type(1):\n",
    "            raise RuntimeError(\"Todos los argumentos deben ser de tipo entero\")\n",
    "\n",
    "    consumo_diario  = 11 * astronautas\n",
    "\n",
    "    consumo_total = (consumo_diario * dias_restantes) - agua_restante \n",
    "\n",
    "    if consumo_total > 0:\n",
    "        raise RuntimeError(\"No hay agua suficiente, para los dias restantes, hacen falta {} litros\".format(consumo_total))\n",
    "    \n",
    "    return \"El agua restante despues de {} dias es: {} litros\".format(dias_restantes, abs(consumo_total))\n",
    "\n",
    "\n",
    "agua_disponible(5, 100, 2)"
   ]
  },
  {
   "cell_type": "code",
   "execution_count": 3,
   "metadata": {},
   "outputs": [
    {
     "data": {
      "text/plain": [
       "'Total water left after 2 days is: -10 liters'"
      ]
     },
     "execution_count": 3,
     "metadata": {},
     "output_type": "execute_result"
    }
   ],
   "source": [
    "def water_left(astronauts, water_left, days_left):\n",
    "    daily_usage = astronauts * 11\n",
    "    total_usage = daily_usage * days_left\n",
    "    total_water_left = water_left - total_usage\n",
    "    return f\"Total water left after {days_left} days is: {total_water_left} liters\"\n",
    "\n",
    "water_left(5, 100, 2)"
   ]
  }
 ],
 "metadata": {
  "interpreter": {
   "hash": "69eb92836b941e979072a76c7fcfffe5419cca933cedd02cfafbdfca1a93358c"
  },
  "kernelspec": {
   "display_name": "Python 3.9.10 64-bit",
   "language": "python",
   "name": "python3"
  },
  "language_info": {
   "codemirror_mode": {
    "name": "ipython",
    "version": 3
   },
   "file_extension": ".py",
   "mimetype": "text/x-python",
   "name": "python",
   "nbconvert_exporter": "python",
   "pygments_lexer": "ipython3",
   "version": "3.9.10"
  },
  "orig_nbformat": 4
 },
 "nbformat": 4,
 "nbformat_minor": 2
}
